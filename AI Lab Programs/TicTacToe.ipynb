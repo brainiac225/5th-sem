{
 "cells": [
  {
   "cell_type": "markdown",
   "metadata": {},
   "source": [
    "# Tic Tac Toe\n",
    "BMS College of Engineering - Dr Kavitha Sooda <br />\n",
    "BMS College of Engineering - Dr Nagarathna N <br />\n",
    "BMS College of Engineering - Prof G R Asha  <br />\n",
    "##### Class 5C"
   ]
  },
  {
   "cell_type": "code",
   "execution_count": 1,
   "metadata": {},
   "outputs": [],
   "source": [
    "# Create a 3x3 tic tac toe board of \"\" strings for each value\n",
    "board = [' '] * 9"
   ]
  },
  {
   "cell_type": "code",
   "execution_count": 2,
   "metadata": {},
   "outputs": [
    {
     "name": "stdout",
     "output_type": "stream",
     "text": [
      "   |   |   \n",
      "---+---+---\n",
      "   |   |   \n",
      "---+---+---\n",
      "   |   |   \n"
     ]
    }
   ],
   "source": [
    "# Create a function to display your board\n",
    "def display_board(board):\n",
    "    print(f\" {board[0]} | {board[1]} | {board[2]} \")\n",
    "    print(\"---+---+---\")\n",
    "    print(f\" {board[3]} | {board[4]} | {board[5]} \")\n",
    "    print(\"---+---+---\")\n",
    "    print(f\" {board[6]} | {board[7]} | {board[8]} \")\n",
    "        \n",
    "        \n",
    "display_board(board)"
   ]
  },
  {
   "cell_type": "code",
   "execution_count": 3,
   "metadata": {},
   "outputs": [
    {
     "data": {
      "text/plain": [
       "False"
      ]
     },
     "execution_count": 3,
     "metadata": {},
     "output_type": "execute_result"
    }
   ],
   "source": [
    "#Create a function to check if anyone won, Use marks \"X\" or \"O\"\n",
    "def check_win(player_mark, board):\n",
    "    win = [f'{player_mark}'] * 3\n",
    "    return board[:3] == win or board[3:6] == win or board[6:9] == win or \\\n",
    "        [board[0], board[4], board[8]] == win or [board[2], board[4], board[6]] == win or \\\n",
    "        [board[0], board[3], board[6]] == win or [board[1], board[4], board[7]] == win or [board[2], board[5], board[8]] == win\n",
    "\n",
    "check_win('X', board)"
   ]
  },
  {
   "cell_type": "code",
   "execution_count": 4,
   "metadata": {},
   "outputs": [],
   "source": [
    "# Create a function to check its a Draw\n",
    "def check_draw(board):\n",
    "    return ' ' not in board"
   ]
  },
  {
   "cell_type": "markdown",
   "metadata": {},
   "source": [
    "# The AI agent\n",
    "## Create an agent that beats you at Tic Tac Toe\n",
    "- Create a stategy to win the game"
   ]
  },
  {
   "cell_type": "code",
   "execution_count": 5,
   "metadata": {},
   "outputs": [],
   "source": [
    "# Create a Function that makes a copy of the board\n",
    "def board_copy(board):\n",
    "    new_board = []\n",
    "    for c in board:\n",
    "        new_board += c\n",
    "    return new_board\n",
    "\n",
    "# copy = board_copy(board)\n",
    "# copy[3] = 'X'\n",
    "# display_board(copy)\n",
    "# print(' ')\n",
    "# display_board(board)"
   ]
  },
  {
   "cell_type": "code",
   "execution_count": 6,
   "metadata": {},
   "outputs": [],
   "source": [
    "#Immediate move checker\n",
    "def test_win_move(move, player_mark, board):\n",
    "    copy = board_copy(board)\n",
    "    copy[move] = player_mark\n",
    "    return check_win(player_mark, copy)"
   ]
  },
  {
   "cell_type": "code",
   "execution_count": 7,
   "metadata": {},
   "outputs": [],
   "source": [
    "#Strategy if others fail\n",
    "def win_strategy(board):\n",
    "    if board[4] == ' ':\n",
    "        return 4\n",
    "    for i in [0, 2, 6, 8]:\n",
    "        if board[i] == ' ':\n",
    "            return i\n",
    "    for i in [1, 3, 5, 7]:\n",
    "        if board[i] == ' ':\n",
    "            return i"
   ]
  },
  {
   "cell_type": "code",
   "execution_count": 8,
   "metadata": {},
   "outputs": [],
   "source": [
    "# Agents move\n",
    "def get_agent_move(board):\n",
    "    for i in range(9):\n",
    "        if board[i] == ' ' and test_win_move(i, 'X', board):\n",
    "            return i\n",
    "    for i in range(9):\n",
    "        if board[i] == ' ' and test_win_move(i, 'O', board):\n",
    "            return i\n",
    "    return win_strategy(board)"
   ]
  },
  {
   "cell_type": "code",
   "execution_count": 9,
   "metadata": {},
   "outputs": [],
   "source": [
    "# Assemble the game\n",
    "def tictactoe():\n",
    "    playing = True\n",
    "    while playing:\n",
    "        in_game = True\n",
    "        board = [' '] * 9\n",
    "        print('Would you like to go first or second? (1/2)')\n",
    "        choice = input()\n",
    "        player_marker = 'O' if choice == '1' else 'X'\n",
    "        display_board(board)\n",
    "\n",
    "        while in_game:\n",
    "            print('\\n')\n",
    "            if player_marker == 'O':\n",
    "                print('Player move: (0-8)')\n",
    "                move = int(input())\n",
    "                if board[move] != ' ':\n",
    "                    print('Invalid move')\n",
    "                    continue\n",
    "            else:\n",
    "                move = get_agent_move(board)\n",
    "            board[move] = player_marker\n",
    "            if check_win(player_marker,board):\n",
    "                in_game = False\n",
    "                display_board(board)\n",
    "                if player_marker == 'O':\n",
    "                    print('O won')\n",
    "                else:\n",
    "                    print('X won')\n",
    "                break\n",
    "            if check_draw(board):\n",
    "                in_game = False\n",
    "                display_board(board)\n",
    "                print('The game was a draw.')\n",
    "                break\n",
    "            display_board(board)\n",
    "            if player_marker == 'O':\n",
    "                player_marker = 'X'\n",
    "            else:\n",
    "                player_marker = 'O'\n",
    "        print('Continue playing? (y/n)')\n",
    "        ans = input()\n",
    "        if ans not in 'yY':\n",
    "            playing = False\n",
    "    "
   ]
  },
  {
   "cell_type": "code",
   "execution_count": 10,
   "metadata": {},
   "outputs": [
    {
     "name": "stdout",
     "output_type": "stream",
     "text": [
      "Would you like to go first or second? (1/2)\n",
      "1\n",
      "   |   |   \n",
      "---+---+---\n",
      "   |   |   \n",
      "---+---+---\n",
      "   |   |   \n",
      "\n",
      "\n",
      "Player move: (0-8)\n",
      "0\n",
      " O |   |   \n",
      "---+---+---\n",
      "   |   |   \n",
      "---+---+---\n",
      "   |   |   \n",
      "\n",
      "\n",
      " O |   |   \n",
      "---+---+---\n",
      "   | X |   \n",
      "---+---+---\n",
      "   |   |   \n",
      "\n",
      "\n",
      "Player move: (0-8)\n",
      "1\n",
      " O | O |   \n",
      "---+---+---\n",
      "   | X |   \n",
      "---+---+---\n",
      "   |   |   \n",
      "\n",
      "\n",
      " O | O | X \n",
      "---+---+---\n",
      "   | X |   \n",
      "---+---+---\n",
      "   |   |   \n",
      "\n",
      "\n",
      "Player move: (0-8)\n",
      "4\n",
      "Invalid move\n",
      "\n",
      "\n",
      "Player move: (0-8)\n",
      "3\n",
      " O | O | X \n",
      "---+---+---\n",
      " O | X |   \n",
      "---+---+---\n",
      "   |   |   \n",
      "\n",
      "\n",
      " O | O | X \n",
      "---+---+---\n",
      " O | X |   \n",
      "---+---+---\n",
      " X |   |   \n",
      "X won\n",
      "Continue playing? (y/n)\n",
      "n\n"
     ]
    }
   ],
   "source": [
    "# Play!!!\n",
    "tictactoe()"
   ]
  },
  {
   "cell_type": "markdown",
   "metadata": {},
   "source": [
    "# Challenge\n",
    "- Put all these methods into a class called 'Tic_Tac_Toe'"
   ]
  },
  {
   "cell_type": "code",
   "execution_count": 11,
   "metadata": {},
   "outputs": [],
   "source": [
    "class Tic_Tac_Toe:\n",
    "    def __init__(self):\n",
    "        pass"
   ]
  }
 ],
 "metadata": {
  "kernelspec": {
   "display_name": "Python 3",
   "language": "python",
   "name": "python3"
  },
  "language_info": {
   "codemirror_mode": {
    "name": "ipython",
    "version": 3
   },
   "file_extension": ".py",
   "mimetype": "text/x-python",
   "name": "python",
   "nbconvert_exporter": "python",
   "pygments_lexer": "ipython3",
   "version": "3.8.3"
  }
 },
 "nbformat": 4,
 "nbformat_minor": 4
}
