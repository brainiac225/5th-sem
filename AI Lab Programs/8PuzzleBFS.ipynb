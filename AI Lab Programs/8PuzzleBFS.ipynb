{
 "cells": [
  {
   "cell_type": "markdown",
   "metadata": {
    "_cell_guid": "b1076dfc-b9ad-4769-8c92-a6c4dae69d19",
    "_uuid": "8f2839f25d086af736a60e9eeb907d3b93b6e0e5"
   },
   "source": [
    "# 8 Puzzle Problem"
   ]
  },
  {
   "cell_type": "markdown",
   "metadata": {
    "_cell_guid": "79c7e3d0-c299-4dcb-8224-4455121ee9b0",
    "_uuid": "d629ff2d2480ee46fbb7e2d37f6b5fab8052498a",
    "collapsed": true
   },
   "source": [
    "BMS College of Engineering - Dr Kavitha Sooda <br />\n",
    "BMS College of Engineering - Dr Nagarathna N <br />\n",
    "BMS College of Engineering - Prof G R Asha  <br />\n",
    "##### Class 5C"
   ]
  },
  {
   "cell_type": "markdown",
   "metadata": {},
   "source": [
    "## Objective\n",
    " Given a 3×3 board with 8 tiles and one empty space \n",
    " - Move the numbers around to match the final configuration using the empty spot \n",
    " - You can slide the numbers from above, below, left and right tiles into the empty space.\n",
    "![](https://media.geeksforgeeks.org/wp-content/uploads/puzzle8init.jpg)"
   ]
  },
  {
   "cell_type": "markdown",
   "metadata": {},
   "source": [
    "Try and use a Brute Force Algorithms\n",
    "\n",
    "![](https://media.geeksforgeeks.org/wp-content/uploads/puzzle-1.jpg)"
   ]
  },
  {
   "cell_type": "code",
   "execution_count": 1,
   "metadata": {},
   "outputs": [],
   "source": [
    "# Bredth first search in search of target - Using Brute Force Algorithms\n",
    "\n",
    "\n",
    "def bfs(src,target):\n",
    "    # Use brute force technique\n",
    "    first = [src]\n",
    "    visited_states = []\n",
    "    while len(first):\n",
    "        state = first.pop(0)\n",
    "        print(state)\n",
    "        visited_states.append(state)\n",
    "        if state == target:\n",
    "            print(\"Success\")\n",
    "            return\n",
    "        for move in possible_moves(state, visited_states):\n",
    "            if move not in first and tuple(move) not in visited_states:\n",
    "                first.append(move)\n",
    "    print(\"Fail\")\n",
    "    \n",
    " "
   ]
  },
  {
   "cell_type": "code",
   "execution_count": 2,
   "metadata": {},
   "outputs": [],
   "source": [
    "# Find Possible Moves\n",
    "def possible_moves(state, visited_states): \n",
    "    b = state.index(-1)  \n",
    "    #'d' for down, 'u' for up, 'r' for right, 'l' for left - directions array\n",
    "    d = []\n",
    "    #Add all possible direction into directions array - Hint using if statements\n",
    "    if 9 > b - 3 >= 0: \n",
    "        d += 'u'\n",
    "    if 9 > b + 3 >= 0:\n",
    "        d += 'd'\n",
    "    if b not in [2,5,8]: \n",
    "        d += 'r'\n",
    "    if b not in [0,3,6]: \n",
    "        d += 'l'\n",
    "    pos_moves = []\n",
    "    for move in d:\n",
    "        pos_moves.append(gen(state,move,b))\n",
    "    return [move for move in pos_moves if tuple(move) not in visited_states]\n",
    "\n"
   ]
  },
  {
   "cell_type": "code",
   "execution_count": 3,
   "metadata": {},
   "outputs": [],
   "source": [
    "# Generate move for given direction\n",
    "def gen(state, direction, blank_spot):\n",
    "    temp = state.copy()                              \n",
    "    if direction == 'u':\n",
    "        temp[blank_spot-3], temp[blank_spot] = temp[blank_spot], temp[blank_spot-3]\n",
    "    if direction == 'd':\n",
    "        temp[blank_spot+3], temp[blank_spot] = temp[blank_spot], temp[blank_spot+3]\n",
    "    if direction == 'r':\n",
    "        temp[blank_spot+1], temp[blank_spot] = temp[blank_spot], temp[blank_spot+1]\n",
    "    if direction == 'l':\n",
    "        temp[blank_spot-1], temp[blank_spot] = temp[blank_spot], temp[blank_spot-1]\n",
    "    return temp "
   ]
  },
  {
   "cell_type": "code",
   "execution_count": 4,
   "metadata": {},
   "outputs": [
    {
     "name": "stdout",
     "output_type": "stream",
     "text": [
      "[1, 2, 3, -1, 4, 5, 6, 7, 8]\n",
      "[-1, 2, 3, 1, 4, 5, 6, 7, 8]\n",
      "[1, 2, 3, 6, 4, 5, -1, 7, 8]\n",
      "[1, 2, 3, 4, -1, 5, 6, 7, 8]\n",
      "[1, 2, 3, -1, 4, 5, 6, 7, 8]\n",
      "[2, -1, 3, 1, 4, 5, 6, 7, 8]\n",
      "[1, 2, 3, 6, 4, 5, 7, -1, 8]\n",
      "[1, -1, 3, 4, 2, 5, 6, 7, 8]\n",
      "[1, 2, 3, 4, 7, 5, 6, -1, 8]\n",
      "[1, 2, 3, 4, 5, -1, 6, 7, 8]\n",
      "Success\n"
     ]
    }
   ],
   "source": [
    "#Test 1\n",
    "src = [1,2,3,-1,4,5,6,7,8]\n",
    "target = [1,2,3,4,5,-1,6,7,8]         \n",
    "       \n",
    "\n",
    "\n",
    "bfs(src, target) "
   ]
  },
  {
   "cell_type": "code",
   "execution_count": 5,
   "metadata": {},
   "outputs": [
    {
     "name": "stdout",
     "output_type": "stream",
     "text": [
      "[1, 2, 3, -1, 4, 5, 6, 7, 8]\n",
      "[-1, 2, 3, 1, 4, 5, 6, 7, 8]\n",
      "[1, 2, 3, 6, 4, 5, -1, 7, 8]\n",
      "Success\n"
     ]
    }
   ],
   "source": [
    "# Test 2\n",
    "src = [1,2,3,-1,4,5,6,7,8] \n",
    "target=[1,2,3,6,4,5,-1,7,8]\n",
    "\n",
    "\n",
    "\n",
    "bfs(src, target)"
   ]
  },
  {
   "cell_type": "markdown",
   "metadata": {},
   "source": [
    "# Challenge"
   ]
  },
  {
   "cell_type": "markdown",
   "metadata": {},
   "source": [
    "1. Change the above functions to add memory so the a site already checked isnt visited again\n",
    "2. Try another brute force algorithm to find the solution"
   ]
  }
 ],
 "metadata": {
  "kernelspec": {
   "display_name": "Python 3",
   "language": "python",
   "name": "python3"
  },
  "language_info": {
   "codemirror_mode": {
    "name": "ipython",
    "version": 3
   },
   "file_extension": ".py",
   "mimetype": "text/x-python",
   "name": "python",
   "nbconvert_exporter": "python",
   "pygments_lexer": "ipython3",
   "version": "3.8.3"
  }
 },
 "nbformat": 4,
 "nbformat_minor": 4
}
